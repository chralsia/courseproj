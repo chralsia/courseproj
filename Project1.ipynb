{
 "cells": [
  {
   "cell_type": "markdown",
   "metadata": {},
   "source": [
    "## Course proj ##"
   ]
  },
  {
   "cell_type": "code",
   "execution_count": 1,
   "metadata": {
    "collapsed": false
   },
   "outputs": [],
   "source": [
    "import math\n",
    "import sys\n",
    "from sympy import *\n",
    "from sympy import Derivative\n",
    "from sympy.parsing.sympy_parser import parse_expr\n",
    "from sympy import symbols\n",
    "def check(parsedf,f,a,b):\n",
    "    der = lambdify(x, diff(parsedf, x))\n",
    "    if(f(a)*f(b) <= 0 and der(a)*der(b) >= 0):\n",
    "        return True\n",
    "    else:\n",
    "        return False"
   ]
  },
  {
   "cell_type": "code",
   "execution_count": 2,
   "metadata": {
    "collapsed": true
   },
   "outputs": [],
   "source": [
    "def choose(f,a,b):\n",
    "    mid = (a+b)/2.0\n",
    "    if(f(a)*f(mid) <= 0): \n",
    "        return a\n",
    "    else:\n",
    "        return b"
   ]
  },
  {
   "cell_type": "markdown",
   "metadata": {},
   "source": [
    "### Newton method ###"
   ]
  },
  {
   "cell_type": "code",
   "execution_count": 4,
   "metadata": {
    "collapsed": false
   },
   "outputs": [
    {
     "name": "stdout",
     "output_type": "stream",
     "text": [
      "3*(x - 1)**2 + 0.5*exp(x)\n",
      "-0.5 1.35914091423\n",
      "0.125 0.1875\n",
      "-0.103347648467 0.0667381715855\n",
      "0.15625\n"
     ]
    }
   ],
   "source": [
    "def checkConditions(x0,f,parsedf):\n",
    "    der = lambdify(x, diff(parsedf, x))\n",
    "    der2 = lambdify(x, diff(diff(parsedf,x),x))\n",
    "    h0 = math.fabs(- f(x0)/der(x0))\n",
    "    M = math.fabs(der2(x0))\n",
    "    m = math.fabs(der(x0))\n",
    "    if(f(x0)*der(x0) != 0 and 2*h0*M <= m):\n",
    "        return True\n",
    "    else:\n",
    "        return False\n",
    "\n",
    "x, t, z, nu = symbols('x t z nu')\n",
    "init_printing(use_unicode=True)\n",
    "exprf = '(x - 1)**3 + 0.5 * exp(x)'\n",
    "parsedf = parse_expr(exprf)\n",
    "a = 0\n",
    "b = 1\n",
    "f = lambdify(x, parsedf)\n",
    "m = diff(parsedf, x)\n",
    "derivative = lambdify(x,m)\n",
    "print m\n",
    "print f(0), f(1)\n",
    "while(check(parsedf,f,a,b) != True or math.fabs(a-b) > 0.1):\n",
    "    if(a==choose(f,a,b)):\n",
    "        b = (a+b)/2.0\n",
    "    else:\n",
    "        a = (a+b)/2.0\n",
    "print a, b\n",
    "print f(a), f(b)\n",
    "x0 = (a+b)/2.0\n",
    "print x0    "
   ]
  },
  {
   "cell_type": "code",
   "execution_count": 5,
   "metadata": {
    "collapsed": false
   },
   "outputs": [
    {
     "name": "stdout",
     "output_type": "stream",
     "text": [
      "OK\n",
      "0.16220427198\n"
     ]
    }
   ],
   "source": [
    "if(checkConditions(x0,f,parsedf)== True):\n",
    "    print \"OK\"\n",
    "    tmpx0 = x0\n",
    "    x1 = tmpx0 - f(tmpx0)/derivative(tmpx0)\n",
    "    while(math.fabs(tmpx0-x1) > 10**(-15)):\n",
    "        tmpx0 = x1\n",
    "        x1 = tmpx0 - f(tmpx0)/derivative(tmpx0)\n",
    "    print x1\n",
    "else:\n",
    "    print \"It isn't solving in this interval\""
   ]
  },
  {
   "cell_type": "markdown",
   "metadata": {},
   "source": [
    "### Метод касательных ###"
   ]
  },
  {
   "cell_type": "code",
   "execution_count": 6,
   "metadata": {
    "collapsed": false
   },
   "outputs": [
    {
     "name": "stdout",
     "output_type": "stream",
     "text": [
      "OK\n",
      "0.162204269216\n"
     ]
    }
   ],
   "source": [
    "if(checkConditions(x0,f,parsedf)== True):\n",
    "    print \"OK\"\n",
    "    derx0 = derivative(x0)\n",
    "    tmpx0 =  x0\n",
    "    x1 = tmpx0 - f(tmpx0)/derx0\n",
    "    while(math.fabs(tmpx0-x1) > 10**(-5)):\n",
    "        tmpx0 = x1\n",
    "        x1 = tmpx0 - f(tmpx0)/derx0\n",
    "    print x1\n",
    "else:\n",
    "     print \"It isn't solving in this interval\""
   ]
  },
  {
   "cell_type": "markdown",
   "metadata": {},
   "source": [
    "### Метод секущих ###"
   ]
  },
  {
   "cell_type": "code",
   "execution_count": 7,
   "metadata": {
    "collapsed": false
   },
   "outputs": [
    {
     "name": "stdout",
     "output_type": "stream",
     "text": [
      "OK\n",
      "0.162204271976\n"
     ]
    }
   ],
   "source": [
    "if(checkConditions(x0,f,parsedf)== True):\n",
    "    print \"OK\"\n",
    "    tmpx0 =  x0\n",
    "    x1 = tmpx0 - f(tmpx0)/derivative(x0)\n",
    "    x2 = x1 - f(x1)*((x1 - tmpx0)/(f(x1) - f(tmpx0)))\n",
    "    while(math.fabs(x2-x1) > 10**(-5)):\n",
    "        tmpx0 = x1\n",
    "        x1 = x2\n",
    "        x2 =  x1 - f(x1)*((x1 - tmpx0)/(f(x1) - f(tmpx0)))\n",
    "    print x2\n",
    "else:\n",
    "     print \"It isn't solving in this interval\""
   ]
  },
  {
   "cell_type": "markdown",
   "metadata": {},
   "source": [
    "### Метод хорд ###"
   ]
  },
  {
   "cell_type": "code",
   "execution_count": 50,
   "metadata": {
    "collapsed": false
   },
   "outputs": [
    {
     "name": "stdout",
     "output_type": "stream",
     "text": [
      "OK\n",
      "0.162204271282\n"
     ]
    }
   ],
   "source": [
    "if(checkConditions(x0,f,parsedf)== True):\n",
    "    print \"OK\"\n",
    "    x1 = x0 - f(x0)/derivative(x0)\n",
    "    x2 = x1 - f(x1)*((x1 - x0)/(f(x1) - f(x0)))\n",
    "    while(math.fabs(x2-x1) > 10**(-5)):\n",
    "        x1 = x2\n",
    "        x2 =  x1 - f(x1)*((x1 - x0)/(f(x1) - f(x0)))\n",
    "    print x2\n",
    "else:\n",
    "     print \"It isn't solving in this interval\""
   ]
  }
 ],
 "metadata": {
  "kernelspec": {
   "display_name": "Python 2",
   "language": "python",
   "name": "python2"
  },
  "language_info": {
   "codemirror_mode": {
    "name": "ipython",
    "version": 2
   },
   "file_extension": ".py",
   "mimetype": "text/x-python",
   "name": "python",
   "nbconvert_exporter": "python",
   "pygments_lexer": "ipython2",
   "version": "2.7.11"
  }
 },
 "nbformat": 4,
 "nbformat_minor": 0
}
